{
 "cells": [
  {
   "cell_type": "markdown",
   "metadata": {},
   "source": [
    "This function takes in a list of blobs as x and y coordinates.\n",
    "It tries to construct likely graphs connecting the blobs in a way that the match a pattern that could have been created by the electrodes. Each graph is assigned a likelyhood, and the best graph is returned."
   ]
  },
  {
   "cell_type": "code",
   "execution_count": 232,
   "metadata": {},
   "outputs": [
    {
     "data": {
      "text/plain": [
       "56.010975450229374"
      ]
     },
     "execution_count": 232,
     "metadata": {},
     "output_type": "execute_result"
    }
   ],
   "source": [
    "np.min(variances)"
   ]
  },
  {
   "cell_type": "code",
   "execution_count": 238,
   "metadata": {},
   "outputs": [],
   "source": [
    "new = [i * .1 for i in compactness]"
   ]
  },
  {
   "cell_type": "code",
   "execution_count": 211,
   "metadata": {},
   "outputs": [
    {
     "ename": "TypeError",
     "evalue": "can't multiply sequence by non-int of type 'float'",
     "output_type": "error",
     "traceback": [
      "\u001b[0;31m---------------------------------------------------------------------------\u001b[0m",
      "\u001b[0;31mTypeError\u001b[0m                                 Traceback (most recent call last)",
      "\u001b[0;32m<ipython-input-211-1ac68c1a7d0a>\u001b[0m in \u001b[0;36m<module>\u001b[0;34m\u001b[0m\n\u001b[0;32m----> 1\u001b[0;31m \u001b[0mnp\u001b[0m\u001b[0;34m.\u001b[0m\u001b[0madd\u001b[0m\u001b[0;34m(\u001b[0m\u001b[0mvariances\u001b[0m\u001b[0;34m,\u001b[0m \u001b[0mnp\u001b[0m\u001b[0;34m.\u001b[0m\u001b[0mmultiply\u001b[0m\u001b[0;34m(\u001b[0m\u001b[0;36m0.1\u001b[0m\u001b[0;34m*\u001b[0m \u001b[0mcompactness\u001b[0m\u001b[0;34m)\u001b[0m\u001b[0;34m)\u001b[0m\u001b[0;34m\u001b[0m\u001b[0;34m\u001b[0m\u001b[0m\n\u001b[0m",
      "\u001b[0;31mTypeError\u001b[0m: can't multiply sequence by non-int of type 'float'"
     ]
    }
   ],
   "source": [
    "np.add(variances, np.multiply(0.1* compactness))"
   ]
  },
  {
   "cell_type": "code",
   "execution_count": 1,
   "metadata": {
    "pycharm": {
     "is_executing": false
    }
   },
   "outputs": [
    {
     "traceback": [
      "\u001b[0;31m---------------------------------------------------------------------------\u001b[0m",
      "\u001b[0;31mNameError\u001b[0m                                 Traceback (most recent call last)",
      "\u001b[0;32m<ipython-input-1-dec8923f8bd4>\u001b[0m in \u001b[0;36m<module>\u001b[0;34m\u001b[0m\n\u001b[1;32m      3\u001b[0m \u001b[0;32mimport\u001b[0m \u001b[0mnetworkx\u001b[0m \u001b[0;32mas\u001b[0m \u001b[0mnx\u001b[0m\u001b[0;34m\u001b[0m\u001b[0;34m\u001b[0m\u001b[0m\n\u001b[1;32m      4\u001b[0m \u001b[0mallpost\u001b[0m\u001b[0;34m,\u001b[0m \u001b[0mallpre\u001b[0m\u001b[0;34m,\u001b[0m \u001b[0mbasenames\u001b[0m \u001b[0;34m=\u001b[0m \u001b[0mload\u001b[0m\u001b[0;34m(\u001b[0m\u001b[0;34m\"DATA\"\u001b[0m\u001b[0;34m)\u001b[0m\u001b[0;34m\u001b[0m\u001b[0;34m\u001b[0m\u001b[0m\n\u001b[0;32m----> 5\u001b[0;31m \u001b[0mblobs\u001b[0m \u001b[0;34m=\u001b[0m \u001b[0mget_blobs\u001b[0m\u001b[0;34m(\u001b[0m\u001b[0mallpost\u001b[0m\u001b[0;34m[\u001b[0m\u001b[0;36m11\u001b[0m\u001b[0;34m]\u001b[0m\u001b[0;34m,\u001b[0m\u001b[0;36m20\u001b[0m\u001b[0;34m)\u001b[0m\u001b[0;34m\u001b[0m\u001b[0;34m\u001b[0m\u001b[0m\n\u001b[0m\u001b[1;32m      6\u001b[0m \u001b[0;34m\u001b[0m\u001b[0m\n\u001b[1;32m      7\u001b[0m \u001b[0mmax_angle\u001b[0m\u001b[0;34m=\u001b[0m\u001b[0;36m50\u001b[0m\u001b[0;34m\u001b[0m\u001b[0;34m\u001b[0m\u001b[0m\n",
      "\u001b[0;31mNameError\u001b[0m: name 'get_blobs' is not defined"
     ],
     "ename": "NameError",
     "evalue": "name 'get_blobs' is not defined",
     "output_type": "error"
    }
   ],
   "source": [
    "from functions import *\n",
    "import itertools\n",
    "import networkx as nx\n",
    "allpost, allpre, basenames = load(\"DATA\")\n",
    "blobs = get_blobs(allpost[11],20)\n",
    "\n",
    "max_angle=50\n",
    "angle_r=180-max_angle\n",
    "angle_l=180+max_angle\n",
    "\n",
    "graph = nx.Graph()\n",
    "graph.add_nodes_from(dict(enumerate(blobs)))\n",
    "\n",
    "pos = {}\n",
    "for i,blob in enumerate(blobs):\n",
    "    graph.nodes[i]['pos'] = (blob[0],blob[1])\n",
    "    pos.update({i:(blob[1],blob[0])})\n",
    "\n",
    "#pairwise_combinations = list(itertools.combinations(blobs, 2))\n",
    "pairwise_combinations = list(itertools.combinations(range(len(blobs)), 2))\n",
    "for i, j in pairwise_combinations:\n",
    "    blob_a = blobs[i]\n",
    "    blob_b = blobs[j]\n",
    "    dist = blob_dist(blob_a, blob_b)\n",
    "    #if dist < 170 and dist > 90:\n",
    "    if dist < 150 and dist > 60:\n",
    "        graph.add_edge(i, j, length=dist)\n",
    "\n",
    "        \n",
    "draw_graph(graph,pos)\n",
    "graph = remove_unconnected(graph)\n",
    "#draw_graph(graph,pos)\n",
    "\n",
    "paths = []\n",
    "\n",
    "for node in graph.nodes():\n",
    "    for neighbor in graph.neighbors(node):\n",
    "        start = [node,neighbor]\n",
    "        graph_new = graph.copy()\n",
    "        graph_new.remove_node(node)\n",
    "        solutions = get_next_possible_neigbours(graph, graph_new, start)\n",
    "        for solution in solutions:\n",
    "                paths.append(solution)\n",
    "\n",
    "#start = [5,2]\n",
    "#graph_new = graph.copy()\n",
    "#graph_new.remove_node(5)\n",
    "#draw_graph(graph_new,pos)\n",
    "\n",
    "#paths = get_next_possible_neigbours(graph, graph_new, start)\n",
    "variances = [dist_var_of_path(blobs, path) for path in paths]\n",
    "compactness = [2*path_compactness(blobs, path) for path in paths]\n",
    "\n",
    "new = [i * .1 for i in compactness]\n",
    "likelihood = np.add(variances,new)\n",
    "path = paths[np.argmin(likelihood)]\n",
    "path = paths[np.argmin(variances)]\n",
    "draw_graph_path(graph,pos,path)"
   ]
  },
  {
   "cell_type": "code",
   "execution_count": 236,
   "metadata": {},
   "outputs": [],
   "source": [
    "def get_next_possible_neigbours(graph_full, graph_left, path_chosen):\n",
    "    #graph_full: the whole graph\n",
    "    #graph_left: the part of the graph that is still available\n",
    "    #path_chosen: list of nodes that make up this path: [starting node, ... , end node]\n",
    "    if len(path_chosen)==12:\n",
    "        #print(path_chosen)\n",
    "        return [path_chosen]\n",
    "    #[n for n in graph.neighbors(start[-1])]\n",
    "    #print(path_chosen)\n",
    "    paths_chosen = []\n",
    "    #paths_chosen = path_chosen.copy()\n",
    "    for neighbor in graph_left.neighbors(path_chosen[-1]):\n",
    "        blob1 = blobs[neighbor,:]\n",
    "        blob2 = blobs[path_chosen[-1],:]\n",
    "        blob3 = blobs[path_chosen[-2],:]\n",
    "        this_angle = blob_angle(blob1, blob2, blob3)\n",
    "        if this_angle < 85:            \n",
    "            #we've found a possible neighbor!\n",
    "            new_graph_full = graph_full.copy()\n",
    "            new_graph_left = graph_left.copy()\n",
    "            new_graph_left.remove_node(path_chosen[-1])\n",
    "            new_path_chosen = path_chosen.copy()\n",
    "            new_path_chosen.append(neighbor)\n",
    "            #call the function recursively with the updated path\n",
    "            recursive_return = get_next_possible_neigbours(new_graph_full, new_graph_left, new_path_chosen)\n",
    "            for solution in recursive_return:\n",
    "                paths_chosen.append(solution)\n",
    "    return paths_chosen\n",
    "            "
   ]
  },
  {
   "cell_type": "code",
   "execution_count": 203,
   "metadata": {},
   "outputs": [],
   "source": [
    "def path_compactness(blobs, path):\n",
    "    coordinates = blobs[path,0:2]\n",
    "    x_mean = np.mean(coordinates[:,0])\n",
    "    y_mean = np.mean(coordinates[:,1])\n",
    "    distances = [distance((x_mean,y_mean), node) for node in coordinates]\n",
    "    return np.sum(distances)"
   ]
  },
  {
   "cell_type": "code",
   "execution_count": 193,
   "metadata": {},
   "outputs": [
    {
     "data": {
      "text/plain": [
       "384.9166666666667"
      ]
     },
     "execution_count": 193,
     "metadata": {},
     "output_type": "execute_result"
    }
   ],
   "source": [
    "coordinates = blobs[path,0:2]\n"
   ]
  },
  {
   "cell_type": "code",
   "execution_count": 99,
   "metadata": {},
   "outputs": [],
   "source": [
    "def dist_var_of_path(blobs, path):\n",
    "    dists = []\n",
    "    route_edges = [(path[n],path[n+1]) for n in range(len(path)-1)]\n",
    "    for a,b in route_edges:\n",
    "        dists.append(blob_dist(blobs[a,:],blobs[b,:]))\n",
    "    return np.var(dists)    "
   ]
  },
  {
   "cell_type": "code",
   "execution_count": 235,
   "metadata": {},
   "outputs": [
    {
     "data": {
      "text/plain": [
       "80.6181538606228"
      ]
     },
     "execution_count": 235,
     "metadata": {},
     "output_type": "execute_result"
    }
   ],
   "source": [
    "blob1 = blobs[10,:]\n",
    "blob2 = blobs[13,:]\n",
    "blob3 = blobs[14,:]\n",
    "blob_angle(blob1, blob2, blob3)\n",
    "#[(path[n],path[n+1]) for n in range(len(path)-1)]"
   ]
  },
  {
   "cell_type": "code",
   "execution_count": 27,
   "metadata": {},
   "outputs": [],
   "source": [
    "def remove_unconnected(graph):\n",
    "    #removes subgraphs that have <12 nodes as they cannot be our electrodes\n",
    "    components_generator = nx.connected_components(graph)\n",
    "    components = [graph.subgraph(c).copy() for c in components_generator]\n",
    "    for component in components:\n",
    "        if len(component)<12:\n",
    "            graph.remove_nodes_from(component.nodes)\n",
    "    return graph\n",
    "    #draw_graph(S[0],pos)"
   ]
  },
  {
   "cell_type": "code",
   "execution_count": 28,
   "metadata": {},
   "outputs": [],
   "source": [
    "def draw_graph(graph,pos):\n",
    "    ax = plt.figure().gca()\n",
    "    ax.set_axis_on()\n",
    "    ax.set_ylim([746,0])\n",
    "    ax.set_xlim([0,1129])\n",
    "    nx.draw_networkx(graph,pos, ax=ax)\n",
    "    ax.tick_params(left=True, bottom=True, labelleft=True, labelbottom=True)\n",
    "    #nx.draw_planar(graph)\n",
    "    plt.show()"
   ]
  },
  {
   "cell_type": "code",
   "execution_count": 86,
   "metadata": {},
   "outputs": [],
   "source": [
    "def draw_graph_path(graph,pos,path):\n",
    "    route_edges = [(path[n],path[n+1]) for n in range(len(path)-1)]\n",
    "    ax = plt.figure().gca()\n",
    "    ax.set_axis_on()\n",
    "    ax.set_ylim([746,0])\n",
    "    ax.set_xlim([0,1129])\n",
    "    nx.draw_networkx(graph,pos, ax=ax)\n",
    "    ax.tick_params(left=True, bottom=True, labelleft=True, labelbottom=True)\n",
    "    #nx.draw_planar(graph)\n",
    "    nx.draw_networkx_edges(graph, pos,\n",
    "                       edgelist=route_edges,\n",
    "                       width=8, alpha=0.5, edge_color='red')\n",
    "    plt.show()"
   ]
  },
  {
   "cell_type": "code",
   "execution_count": 29,
   "metadata": {},
   "outputs": [],
   "source": [
    "def blob_angle(blob1, blob2, blob3):\n",
    "    x1, y1, r = blob1\n",
    "    x2, y2, r = blob2\n",
    "    x3, y3, r = blob3    \n",
    "    v1_x = x2 - x1\n",
    "    v1_y = y2 - y1\n",
    "    v2_x = x3 - x2\n",
    "    v2_y = y3 - y2    \n",
    "    return angle((v1_x,v1_y),(v2_x,v2_y))"
   ]
  },
  {
   "cell_type": "code",
   "execution_count": 30,
   "metadata": {},
   "outputs": [],
   "source": [
    "def blobs_in_range(center, blobs, max_range):\n",
    "    #check which blobs are inside of range\n",
    "    blobs_in_range = []\n",
    "    for i, blob in enumerate(blobs):\n",
    "        if dist(center,blob)<= max_range:\n",
    "            blobs_in_range.append(i)\n",
    "    return blobs_in_range\n",
    "        "
   ]
  },
  {
   "cell_type": "code",
   "execution_count": 31,
   "metadata": {},
   "outputs": [],
   "source": [
    "def blob_dist(blob1, blob2):\n",
    "    return distance(blob1[0:2], blob2[0:2])"
   ]
  },
  {
   "cell_type": "code",
   "execution_count": 245,
   "metadata": {},
   "outputs": [],
   "source": [
    "def get_blobs (image,nb_blobs):\n",
    "    from skimage.feature import blob_log\n",
    "    #returns list of X,Y coordinates and approximate radii of blobs detected\n",
    "    #removes blobs that are far away until only nb_blobs are left\n",
    "    \n",
    "    image_gray = rgb2gray(image)\n",
    "\n",
    "    #preprocessing: contrast stretching\n",
    "    p2, p98 = np.percentile(image_gray, (2, 98))\n",
    "    image_gray = exposure.rescale_intensity(image_gray, in_range=(p2, p98))\n",
    "\n",
    "\n",
    "    #blob detection\n",
    "    blobs_log = blob_log(image_gray, min_sigma = 15, max_sigma=25, num_sigma=5, threshold=.12)\n",
    "\n",
    "    # comp approximated radii in the 3rd col\n",
    "    blobs_log[:, 2] = blobs_log[:, 2] * sqrt(2)\n",
    "\n",
    "    while len(blobs_log) > nb_blobs:\n",
    "        distances = np.zeros((len(blobs_log), 2))\n",
    "        for i, blob in enumerate(blobs_log):\n",
    "            distances[i][0] = int(i)\n",
    "            y1,x1,r = blob\n",
    "            for n in range (i,len(blobs_log)):\n",
    "                y2,x2, r = blobs_log[n]\n",
    "                # draw.line((x1, y1, x2, y2), fill=128)\n",
    "                dist = distance((x1,y1),(x2,y2))\n",
    "\n",
    "                distances[i][1] += dist\n",
    "                distances[n][1] += dist\n",
    "        distances = distances[distances[:, 1].argsort()][:len(distances)]\n",
    "        last = int(distances[len(distances)-1][0])\n",
    "        #print(blobs_log)\n",
    "        blobs_log = np.delete(blobs_log,last, axis=0)\n",
    "        #print(blobs_log)\n",
    "        #print(len(blobs_log))\n",
    "\n",
    "\n",
    "    #display the blobs\n",
    "    fig, ax = plt.subplots(1, 1, figsize=(9, 3), sharex=True, sharey=True)\n",
    "    blobs = blobs_log\n",
    "    title = 'Laplacian of Gaussian'\n",
    "    ax.set_title(title)\n",
    "    ax.imshow(image_gray)\n",
    "    for blob in blobs_log:\n",
    "        y, x, r = blob\n",
    "        c = plt.Circle((x, y), r, color='red', linewidth=2, fill=False)\n",
    "        ax.add_patch(c)\n",
    "    #ax.set_axis_off()\n",
    "    plt.show()\n",
    "    \n",
    "    return blobs_log"
   ]
  }
 ],
 "metadata": {
  "kernelspec": {
   "display_name": "Python 3",
   "language": "python",
   "name": "python3"
  },
  "language_info": {
   "codemirror_mode": {
    "name": "ipython",
    "version": 3
   },
   "file_extension": ".py",
   "mimetype": "text/x-python",
   "name": "python",
   "nbconvert_exporter": "python",
   "pygments_lexer": "ipython3",
   "version": "3.7.6"
  }
 },
 "nbformat": 4,
 "nbformat_minor": 4
}